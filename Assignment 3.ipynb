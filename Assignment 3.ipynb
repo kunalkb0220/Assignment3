{
 "cells": [
  {
   "cell_type": "code",
   "execution_count": null,
   "id": "cce091e1",
   "metadata": {},
   "outputs": [],
   "source": [
    "1. Why are functions advantageous to have in your programs?\n",
    "\n",
    "Functions reduce the need for duplicate code. \n",
    "This makes programs shorter, easier to read, and easier to update.\n"
   ]
  },
  {
   "cell_type": "code",
   "execution_count": null,
   "id": "1d82b941",
   "metadata": {},
   "outputs": [],
   "source": [
    "2. When does the code in a function run: when it's specified or when it's called?\n",
    "    \n",
    "The code in a function executes when the function is called, not when the function is defined.\n"
   ]
  },
  {
   "cell_type": "code",
   "execution_count": null,
   "id": "6c01038c",
   "metadata": {},
   "outputs": [],
   "source": [
    "3. What statement creates a function?\n",
    "\n",
    "A function is defined by using the def keyword, followed by a name of your choosing, \n",
    "followed by a set of parentheses which hold any parameters the function will take (they can be empty), and ending with a colon.\n"
   ]
  },
  {
   "cell_type": "code",
   "execution_count": null,
   "id": "3674ffe5",
   "metadata": {},
   "outputs": [],
   "source": [
    "4. What is the difference between a function and a function call?\n",
    "\n",
    "A function is a block of code that does a particular operation and returns a result. \n",
    "It usually accepts inputs as parameters and returns a result. \n",
    "The parameters are not mandatory. \n",
    "A function call is the code used to pass control to a function.\n"
   ]
  },
  {
   "cell_type": "code",
   "execution_count": null,
   "id": "a16e3984",
   "metadata": {},
   "outputs": [],
   "source": [
    "5. How many global scopes are there in a Python program? How many local scopes?\n",
    "\n",
    "At any given time during execution, you'll have at most four active Python scopes—local, \n",
    "enclosing, global, and built-in—depending on where you are in the code. \n",
    "On the other hand, you'll always have at least two active scopes, which are the global and built-in scopes.\n",
    "\n",
    "There's only one global Python scope per program execution.\n"
   ]
  },
  {
   "cell_type": "code",
   "execution_count": null,
   "id": "8ffa9ac8",
   "metadata": {},
   "outputs": [],
   "source": [
    "6. What happens to variables in a local scope when the function call returns?\n",
    "\n",
    "When the execution of the function terminates (returns), the local variables are destroyed.\n"
   ]
  },
  {
   "cell_type": "code",
   "execution_count": null,
   "id": "0796e301",
   "metadata": {},
   "outputs": [],
   "source": [
    "7. What is the concept of a return value? Is it possible to have a return value in an expression?\n",
    "\n",
    "A return statement is used to end the execution of the function call and “returns” the result to the caller. \n",
    "The statements after the return statements are not executed. \n",
    "If the return statement is without any expression, then the special value None is returned. \n",
    "A return statement is overall used to invoke a function so that the passed statements can be executed.\n"
   ]
  },
  {
   "cell_type": "code",
   "execution_count": null,
   "id": "af38d31c",
   "metadata": {},
   "outputs": [],
   "source": [
    "8. If a function does not have a return statement, what is the return value of a call to that function?\n",
    "\n",
    "If no return statement appears in a function definition, control automatically returns to the calling \n",
    "function after the last statement of the called function is executed. \n",
    "In this case, the return value of the called function is undefined.\n"
   ]
  },
  {
   "cell_type": "code",
   "execution_count": null,
   "id": "8936af2a",
   "metadata": {},
   "outputs": [],
   "source": [
    "9. How do you make a function variable refer to the global variable?\n",
    "\n",
    "Normally, when you create a variable inside a function, that variable is local, and can only be used inside that function. \n",
    "To create a global variable inside a function, you can use the global keyword.\n"
   ]
  },
  {
   "cell_type": "code",
   "execution_count": null,
   "id": "751c6453",
   "metadata": {},
   "outputs": [],
   "source": [
    "10. What is the data type of None?\n",
    "\n",
    "The None keyword is used to define a null value, or no value at all.\n",
    "None is not the same as 0, False, or an empty string. None is a data type of its own (NoneType) and only None can be None.\n"
   ]
  },
  {
   "cell_type": "code",
   "execution_count": null,
   "id": "b719e9cf",
   "metadata": {},
   "outputs": [],
   "source": [
    "11. What does the sentence import areallyourpetsnamederic do?\n",
    "\n",
    "That import statement imports a module named areallyourpetsnamederic. (This isn't a real Python module, by the way.)\n",
    "                                                                       "
   ]
  },
  {
   "cell_type": "code",
   "execution_count": null,
   "id": "835787bf",
   "metadata": {},
   "outputs": [],
   "source": [
    "12. If you had a bacon() feature in a spam module, what would you call it after importing spam?\n",
    "\n",
    "This function can be called with spam. bacon().\n"
   ]
  },
  {
   "cell_type": "code",
   "execution_count": null,
   "id": "01436ed5",
   "metadata": {},
   "outputs": [],
   "source": [
    "13. What can you do to save a programme from crashing if it encounters an error?\n",
    "\n",
    "In Python, we use the try and except statements to handle exceptions. \n",
    "Whenever the code breaks down, an exception is thrown without crashing the program.\n"
   ]
  },
  {
   "cell_type": "code",
   "execution_count": null,
   "id": "5e4ae692",
   "metadata": {},
   "outputs": [],
   "source": [
    "14. What is the purpose of the try clause? What is the purpose of the except clause?\n",
    "\n",
    "The try block lets you test a block of code for errors. The except block lets you handle the error."
   ]
  }
 ],
 "metadata": {
  "kernelspec": {
   "display_name": "Python 3",
   "language": "python",
   "name": "python3"
  },
  "language_info": {
   "codemirror_mode": {
    "name": "ipython",
    "version": 3
   },
   "file_extension": ".py",
   "mimetype": "text/x-python",
   "name": "python",
   "nbconvert_exporter": "python",
   "pygments_lexer": "ipython3",
   "version": "3.8.8"
  }
 },
 "nbformat": 4,
 "nbformat_minor": 5
}
